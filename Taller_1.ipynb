{
 "cells": [
  {
   "cell_type": "markdown",
   "id": "0dca87a1",
   "metadata": {},
   "source": [
    "## **Taller 1\n",
    "\n",
    "Yibby Gonzalez "
   ]
  },
  {
   "cell_type": "code",
   "execution_count": 1,
   "id": "e74e74e7",
   "metadata": {},
   "outputs": [],
   "source": [
    "# 1. Funcion de °F a °C\n",
    "def gradosF(F):\n",
    "    C = (F-32)/1.8\n",
    "    print('Los',F,'° Fahrenheit ingresados, son equvalentes a',C,'° centígrados.')"
   ]
  },
  {
   "cell_type": "code",
   "execution_count": 2,
   "id": "161e3d5a",
   "metadata": {},
   "outputs": [
    {
     "name": "stdout",
     "output_type": "stream",
     "text": [
      "Los 20 ° Fahrenheit ingresados, son equvalentes a -6.666666666666666 ° centígrados.\n"
     ]
    }
   ],
   "source": [
    "gradosF(20)"
   ]
  },
  {
   "cell_type": "code",
   "execution_count": 3,
   "id": "d4c7a5b0",
   "metadata": {
    "scrolled": true
   },
   "outputs": [
    {
     "name": "stdout",
     "output_type": "stream",
     "text": [
      "Ingrese los grados Fahrenheit a convertir50\n",
      "Los 50 ° Fahrenheit ingresados, son equvalentes a 10.0 ° centígrados.\n"
     ]
    }
   ],
   "source": [
    "F = int(input('Ingrese los grados Fahrenheit a convertir'))\n",
    "C = (F-32)/1.8\n",
    "print('Los',F,'° Fahrenheit ingresados, son equvalentes a',C,'° centígrados.')"
   ]
  },
  {
   "cell_type": "code",
   "execution_count": 4,
   "id": "def1ad0c",
   "metadata": {},
   "outputs": [
    {
     "name": "stdout",
     "output_type": "stream",
     "text": [
      "Ingrese la contraseñaYibby55$\n",
      "Se ha guardado correctamente la contraseña\n"
     ]
    }
   ],
   "source": [
    "#2. Contraseña\n",
    "Contraseña = input('Ingrese la contraseña')\n",
    "numbers = ['1','2','3','4','5','6','7','8','9','0']\n",
    "simb = ['*','_' , '!', '$','%']\n",
    "\n",
    "LC = list(Contraseña)\n",
    "n = (0); s = (0); m = (0)\n",
    "for i in range(0,len(numbers)):\n",
    "    for j in range(len(LC)):\n",
    "        n = n + (numbers[i] == LC[j])\n",
    "\n",
    "for i in range(0,len(simb)):\n",
    "    for j in range(len(LC)):\n",
    "        s = s + (simb[i] == LC[j])\n",
    "\n",
    "for j in range(len(LC)):        \n",
    "    m = m+ LC[j].isupper()*1\n",
    "\n",
    "if n == 0 or s == 0 or m == 0:\n",
    "    print('Falta al menos un carácter numérico. \\nFalta al menos uno de los siguientes carácter especiales: *, _ , !, $, %. \\nFalta al menos una mayúscula.')\n",
    "else: \n",
    "     print('Se ha guardado correctamente la contraseña')"
   ]
  },
  {
   "cell_type": "code",
   "execution_count": 5,
   "id": "b887d914",
   "metadata": {},
   "outputs": [
    {
     "name": "stdout",
     "output_type": "stream",
     "text": [
      "Requirement already satisfied: dfply in c:\\users\\admin\\anaconda3\\lib\\site-packages (0.3.3)\n",
      "Requirement already satisfied: pandas in c:\\users\\admin\\anaconda3\\lib\\site-packages (from dfply) (1.4.2)\n",
      "Requirement already satisfied: numpy in c:\\users\\admin\\anaconda3\\lib\\site-packages (from dfply) (1.21.5)\n",
      "Requirement already satisfied: python-dateutil>=2.8.1 in c:\\users\\admin\\anaconda3\\lib\\site-packages (from pandas->dfply) (2.8.2)\n",
      "Requirement already satisfied: pytz>=2020.1 in c:\\users\\admin\\anaconda3\\lib\\site-packages (from pandas->dfply) (2021.3)\n",
      "Requirement already satisfied: six>=1.5 in c:\\users\\admin\\anaconda3\\lib\\site-packages (from python-dateutil>=2.8.1->pandas->dfply) (1.16.0)\n"
     ]
    }
   ],
   "source": [
    "!pip install dfply"
   ]
  },
  {
   "cell_type": "code",
   "execution_count": 6,
   "id": "cb235906",
   "metadata": {},
   "outputs": [],
   "source": [
    "import pandas as pd\n",
    "import numpy as np\n",
    "from sklearn import datasets\n",
    "from dfply import *"
   ]
  },
  {
   "cell_type": "code",
   "execution_count": 7,
   "id": "dace5365",
   "metadata": {},
   "outputs": [],
   "source": [
    "#3  Libros\n",
    "Libros = [50000,30000,80000,20000,100000,40000]\n",
    "C1 = pd.DataFrame(); C2 = pd.DataFrame(); C3 = pd.DataFrame(); C4 = pd.DataFrame()\n",
    "for j in range(1,6):\n",
    "    for k in range(1,6):\n",
    "        nueva_fila = pd.DataFrame({'P1': [Libros[0]], 'P2':[Libros[j]], 'P3':[Libros[k]]})\n",
    "        U = [C1,nueva_fila]\n",
    "        C1 = pd.concat(U, ignore_index = True)\n",
    "\n",
    "for j in range(2,6):\n",
    "    for k in range(2,6):\n",
    "        nueva_fila = pd.DataFrame({'P1':[Libros[1]], 'P2':[Libros[j]], 'P3':[Libros[k]]})\n",
    "        U = [C2,nueva_fila]\n",
    "        C2 = pd.concat(U, ignore_index = True)\n",
    "\n",
    "for j in range(3,6):\n",
    "    for k in range(3,6):\n",
    "        nueva_fila = pd.DataFrame({'P1':[Libros[2]], 'P2':[Libros[j]], 'P3':[Libros[k]]})\n",
    "        U = [C3,nueva_fila]\n",
    "        C3 = pd.concat(U, ignore_index = True)\n",
    "\n",
    "for j in range(4,6):\n",
    "    for k in range(4,6):\n",
    "        nueva_fila = pd.DataFrame({'P1':[Libros[3]], 'P2':[Libros[j]], 'P3':[Libros[k]]})\n",
    "        U = [C4,nueva_fila]\n",
    "        C4 = pd.concat(U, ignore_index = True)\n"
   ]
  },
  {
   "cell_type": "code",
   "execution_count": 8,
   "id": "ea0fe7e1",
   "metadata": {},
   "outputs": [],
   "source": [
    "Base1 = (C1 >>\n",
    "  mask(X.P2!= X.P3) >>\n",
    "         mutate(multi = X.P2*X.P3 )\n",
    ")\n",
    "Base2 = (C2 >>\n",
    "  mask(X.P2!= X.P3) >>\n",
    "         mutate(multi = X.P2*X.P3 )\n",
    ")\n",
    "\n",
    "Base3 = (C3 >>\n",
    "  mask(X.P2!= X.P3) >>\n",
    "         mutate(multi = X.P2*X.P3 )\n",
    ")\n",
    "Base4 = (C4 >>\n",
    "  mask(X.P2!= X.P3) >>\n",
    "         mutate(multi = X.P2*X.P3 )\n",
    ")\n",
    "\n",
    "Base1 = Base1.drop_duplicates(['multi']); Base2 = Base2.drop_duplicates(['multi'])\n",
    "Base3 = Base3.drop_duplicates(['multi']); Base4 = Base4.drop_duplicates(['multi'])\n",
    "UNIR = [Base1, Base2, Base3, Base4]\n",
    "Base = pd.concat(UNIR,ignore_index = True)\n",
    "del Base['multi']\n",
    "\n",
    "Base = (Base >>\n",
    "  mutate(sumaTotal = X.P1+X.P2+X.P3) \n",
    ")\n",
    "Base = (Base >>\n",
    "  mutate(Pagar = X.sumaTotal - Base.min(axis = 1)) >>\n",
    "        mutate(Descuento = Base.min(axis = 1))\n",
    ")"
   ]
  },
  {
   "cell_type": "code",
   "execution_count": 9,
   "id": "1ba7cff5",
   "metadata": {},
   "outputs": [],
   "source": [
    "BaseNN = Base.loc[10:19]\n",
    "BaseNN = BaseNN.sort_index(axis=0, ascending= False)\n",
    "BaseNN= BaseNN.set_axis(list(range(0, 10)), axis=0)\n",
    "BaseNN = BaseNN.set_axis(['P1_n','P2_n','P3_n','sumaTotal_n','Pagar_n','Descuento_n'], axis=1)\n",
    "BaseN = Base.loc[0:9]\n",
    "H = [BaseN,BaseNN]\n",
    "M = pd.concat(H,ignore_index=False, axis = 1)\n",
    "M = (M >> mutate(Des_Total = X.Descuento + X.Descuento_n))\n",
    "\n",
    "F = M[M['Des_Total'] ==  M['Des_Total'].max()]    "
   ]
  },
  {
   "cell_type": "code",
   "execution_count": 10,
   "id": "f19dbd7b",
   "metadata": {},
   "outputs": [
    {
     "name": "stdout",
     "output_type": "stream",
     "text": [
      "• Libro 1 por $50.000\n",
      "• Libro 2 por $30.000\n",
      "• Libro 3 por $80.000\n",
      "• Libro 4 por $20.000\n",
      "• Libro 5 por $100.000\n",
      "• Libro 6 por $40.000\n",
      "• Combinación de libros 1: 50000 , 80000 , 100000 .\n",
      "• Combinación de libros 2: 30000 , 20000 , 40000 .\n",
      "• Total de dinero ahorrado: 70000\n"
     ]
    }
   ],
   "source": [
    "print('• Libro 1 por $50.000\\n• Libro 2 por $30.000\\n• Libro 3 por $80.000\\n• Libro 4 por $20.000\\n• Libro 5 por $100.000\\n• Libro 6 por $40.000')\n",
    "print('• Combinación de libros 1:',F['P1'].iloc[0],',',F['P2'].iloc[0],',',F['P3'].iloc[0],'.')\n",
    "print('• Combinación de libros 2:',F['P1_n'].iloc[0],',',F['P2_n'].iloc[0],',',F['P3_n'].iloc[0],'.')\n",
    "print('• Total de dinero ahorrado:', F['Des_Total'].iloc[0])"
   ]
  }
 ],
 "metadata": {
  "kernelspec": {
   "display_name": "Python 3 (ipykernel)",
   "language": "python",
   "name": "python3"
  },
  "language_info": {
   "codemirror_mode": {
    "name": "ipython",
    "version": 3
   },
   "file_extension": ".py",
   "mimetype": "text/x-python",
   "name": "python",
   "nbconvert_exporter": "python",
   "pygments_lexer": "ipython3",
   "version": "3.9.12"
  }
 },
 "nbformat": 4,
 "nbformat_minor": 5
}
